{
 "cells": [
  {
   "cell_type": "markdown",
   "metadata": {},
   "source": [
    "<h1><center> Cyberbully Detection </center></h1>\n",
    "\n",
    "<img src=https://i.ytimg.com/vi/mpUWos8Z6A0/maxresdefault.jpg style=\"width: 600px;\"/>\n",
    "\n",
    "\n",
    "### Introduction\n",
    "\n",
    "Cyberbullying occurs in many digital social media and platforms. It pertains to sending, posting, or sharing negative, harmful, false, or mean content about someone. Such negativity embarrasses and humiliates subjects. For teenagers and young adults, it can be hard to deal with such negativity and be psychologically jarring. Some cyberbullying crosses the line into unlawful or criminal behavior. There are several incidents where young adults and teenagers have committed suicide because of online harassments and bullying.\n",
    "\n",
    "###  Project Goal\n",
    "\n",
    "\n",
    "The goal of this project is analyze some YouTube comments for some users or subjects. Some questions we would want to be answered are:\n",
    "\n",
    "\n",
    "**Video/Uploader wise:**\n",
    "\n",
    "\n",
    "* Who/what videos gets bullied more?\n",
    "* what are topics people bully about?\n",
    "* How are people being bullied - what are extremes?\n",
    "* Which of these youtubers have more trolls and bully than others?\n",
    "* Is there any relationship between number of likes for the videos vs number of trolls?\n",
    "\n",
    "\n",
    "**Commenter wise:**\n",
    "* Which of the commenters are repeat offenders\n",
    "* Do cyber bullying victims and perpetrators fit any stereotypical profile? commonality?\n",
    "\n",
    "**General Questions:**\n",
    "* Can mocking the opinion of a minor amount to bullying?\n",
    "* Difference between troll and bullying\n",
    "\n",
    "**Hard-Hitting Questions:**\n",
    "* How much of a problem do you think cyber-bullying is?\n",
    "* How to prevent cyberbullying?\n",
    "* When to alarm police vs social media admin?\n",
    "\n",
    "\n",
    "\n",
    "#### Selecting Videos for Investigation\n",
    "\n",
    "For the purpose of this project, I researched few news stories of people who were bullied and subject to bully.\n",
    "[One of the article](https://www.teenvogue.com/gallery/youtubers-open-up-about-cyberbullying) was about few teenage YouTube celebrities who were bullied or cyberbullied at some point of their life. I randomly selected couple videos from their YouTube channel and am using for research and analysis for this project. \n",
    "\n",
    "Moreover, I investigated some hot topics which are prone to bullying. For example, bullies are highly existent in racial, teenage lifestyle and appearance, LGBTQ topics or it could be targeted mostly towards woman and girls. I randomly chose few videos from these topics and stored in a csv file.\n",
    "\n",
    "\n",
    "#### Getting Video Information\n",
    "\n",
    "Here, we utilize YouTube api to collect several data related to YouTube videos like video URLs, description , view and like statistics, comment information like commenters, comments, comment likes, replies etc.\n",
    "\n",
    "I have created several functions to get general information, statistics, comments and replies from a video. I also have a function where one can perform a simple YouTube search query and retrieve links of search results.\n"
   ]
  },
  {
   "cell_type": "code",
   "execution_count": null,
   "metadata": {},
   "outputs": [],
   "source": []
  }
 ],
 "metadata": {
  "kernelspec": {
   "display_name": "Python 3",
   "language": "python",
   "name": "python3"
  },
  "language_info": {
   "codemirror_mode": {
    "name": "ipython",
    "version": 3
   },
   "file_extension": ".py",
   "mimetype": "text/x-python",
   "name": "python",
   "nbconvert_exporter": "python",
   "pygments_lexer": "ipython3",
   "version": "3.7.3"
  }
 },
 "nbformat": 4,
 "nbformat_minor": 2
}
