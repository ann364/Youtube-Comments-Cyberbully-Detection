{
 "cells": [
  {
   "cell_type": "markdown",
   "metadata": {},
   "source": [
    "<h1><center> Sentiment Analysis </center></h1>\n",
    "<img src=https://www.whichemoji.co.uk/wp-content/uploads/2019/06/scatteremojis-10.png style=\"width: 300px;\"/>"
   ]
  },
  {
   "cell_type": "code",
   "execution_count": 2,
   "metadata": {},
   "outputs": [],
   "source": [
    "import pandas as pd\n",
    "from textblob import TextBlob\n",
    "import matplotlib.pyplot as plt"
   ]
  },
  {
   "cell_type": "code",
   "execution_count": 13,
   "metadata": {},
   "outputs": [
    {
     "data": {
      "text/html": [
       "<div>\n",
       "<style scoped>\n",
       "    .dataframe tbody tr th:only-of-type {\n",
       "        vertical-align: middle;\n",
       "    }\n",
       "\n",
       "    .dataframe tbody tr th {\n",
       "        vertical-align: top;\n",
       "    }\n",
       "\n",
       "    .dataframe thead th {\n",
       "        text-align: right;\n",
       "    }\n",
       "</style>\n",
       "<table border=\"1\" class=\"dataframe\">\n",
       "  <thead>\n",
       "    <tr style=\"text-align: right;\">\n",
       "      <th></th>\n",
       "      <th>Person</th>\n",
       "      <th>Comments</th>\n",
       "    </tr>\n",
       "  </thead>\n",
       "  <tbody>\n",
       "    <tr>\n",
       "      <th>0</th>\n",
       "      <td>Danielle Cohn</td>\n",
       "      <td>Disgusting So u 13 and you had a first time Th...</td>\n",
       "    </tr>\n",
       "    <tr>\n",
       "      <th>1</th>\n",
       "      <td>Emily Ann Shaheen</td>\n",
       "      <td>Im Arab from iraq but my golden name is in eng...</td>\n",
       "    </tr>\n",
       "    <tr>\n",
       "      <th>2</th>\n",
       "      <td>Madeline &amp; Eric</td>\n",
       "      <td>Your grocery carts are sooo small. Ours look g...</td>\n",
       "    </tr>\n",
       "    <tr>\n",
       "      <th>3</th>\n",
       "      <td>Madison Beer</td>\n",
       "      <td>Be strong That's my fav song of demi lovato I'...</td>\n",
       "    </tr>\n",
       "    <tr>\n",
       "      <th>4</th>\n",
       "      <td>Rebecca Black</td>\n",
       "      <td>My old girlfriend also had a book titled Knot ...</td>\n",
       "    </tr>\n",
       "  </tbody>\n",
       "</table>\n",
       "</div>"
      ],
      "text/plain": [
       "              Person                                           Comments\n",
       "0      Danielle Cohn  Disgusting So u 13 and you had a first time Th...\n",
       "1  Emily Ann Shaheen  Im Arab from iraq but my golden name is in eng...\n",
       "2    Madeline & Eric  Your grocery carts are sooo small. Ours look g...\n",
       "3       Madison Beer  Be strong That's my fav song of demi lovato I'...\n",
       "4      Rebecca Black  My old girlfriend also had a book titled Knot ..."
      ]
     },
     "execution_count": 13,
     "metadata": {},
     "output_type": "execute_result"
    }
   ],
   "source": [
    "person_comments_sentiment = pd.read_pickle('person_comments_grouped.pkl')\n",
    "person_comments_sentiment.head()"
   ]
  },
  {
   "cell_type": "markdown",
   "metadata": {},
   "source": [
    "#### Polarity and Subjectivity\n",
    "\n",
    "Polarity tells us how much positive or negative connotation a sentence or group of sentence has. It ranges between -1 to 1 where 1 is a super positive sentence while -1 otherwise.\n",
    "\n",
    "Subjectivity tells us if a sentence states a fact or opinion. It ranges from 0 to 1. 0 is where a sentence or group of sentence is factual while 1 is highly opinionated.\n",
    "\n",
    "We apply these methodologies in the comments each of these subjects received and analyze what they could possibly mean."
   ]
  },
  {
   "cell_type": "code",
   "execution_count": 14,
   "metadata": {},
   "outputs": [
    {
     "data": {
      "text/html": [
       "<div>\n",
       "<style scoped>\n",
       "    .dataframe tbody tr th:only-of-type {\n",
       "        vertical-align: middle;\n",
       "    }\n",
       "\n",
       "    .dataframe tbody tr th {\n",
       "        vertical-align: top;\n",
       "    }\n",
       "\n",
       "    .dataframe thead th {\n",
       "        text-align: right;\n",
       "    }\n",
       "</style>\n",
       "<table border=\"1\" class=\"dataframe\">\n",
       "  <thead>\n",
       "    <tr style=\"text-align: right;\">\n",
       "      <th></th>\n",
       "      <th>Person</th>\n",
       "      <th>Comments</th>\n",
       "      <th>polarity</th>\n",
       "      <th>subjectivity</th>\n",
       "    </tr>\n",
       "  </thead>\n",
       "  <tbody>\n",
       "    <tr>\n",
       "      <th>0</th>\n",
       "      <td>Danielle Cohn</td>\n",
       "      <td>Disgusting So u 13 and you had a first time Th...</td>\n",
       "      <td>-0.034720</td>\n",
       "      <td>0.568526</td>\n",
       "    </tr>\n",
       "    <tr>\n",
       "      <th>1</th>\n",
       "      <td>Emily Ann Shaheen</td>\n",
       "      <td>Im Arab from iraq but my golden name is in eng...</td>\n",
       "      <td>0.272785</td>\n",
       "      <td>0.552532</td>\n",
       "    </tr>\n",
       "    <tr>\n",
       "      <th>2</th>\n",
       "      <td>Madeline &amp; Eric</td>\n",
       "      <td>Your grocery carts are sooo small. Ours look g...</td>\n",
       "      <td>0.301795</td>\n",
       "      <td>0.613370</td>\n",
       "    </tr>\n",
       "    <tr>\n",
       "      <th>3</th>\n",
       "      <td>Madison Beer</td>\n",
       "      <td>Be strong That's my fav song of demi lovato I'...</td>\n",
       "      <td>0.255257</td>\n",
       "      <td>0.674799</td>\n",
       "    </tr>\n",
       "    <tr>\n",
       "      <th>4</th>\n",
       "      <td>Rebecca Black</td>\n",
       "      <td>My old girlfriend also had a book titled Knot ...</td>\n",
       "      <td>0.243381</td>\n",
       "      <td>0.578674</td>\n",
       "    </tr>\n",
       "    <tr>\n",
       "      <th>5</th>\n",
       "      <td>Richard Gale</td>\n",
       "      <td>Hes a bitch Richard your a n idiot mate He bul...</td>\n",
       "      <td>-0.114670</td>\n",
       "      <td>0.563138</td>\n",
       "    </tr>\n",
       "    <tr>\n",
       "      <th>6</th>\n",
       "      <td>Shannon Beveridge</td>\n",
       "      <td>My ex broke up with me because she wanted to b...</td>\n",
       "      <td>0.145690</td>\n",
       "      <td>0.585043</td>\n",
       "    </tr>\n",
       "    <tr>\n",
       "      <th>7</th>\n",
       "      <td>Steven Assanti</td>\n",
       "      <td>Steven is a Sagittarius, we be great is my guy...</td>\n",
       "      <td>-0.032465</td>\n",
       "      <td>0.590166</td>\n",
       "    </tr>\n",
       "  </tbody>\n",
       "</table>\n",
       "</div>"
      ],
      "text/plain": [
       "              Person                                           Comments  \\\n",
       "0      Danielle Cohn  Disgusting So u 13 and you had a first time Th...   \n",
       "1  Emily Ann Shaheen  Im Arab from iraq but my golden name is in eng...   \n",
       "2    Madeline & Eric  Your grocery carts are sooo small. Ours look g...   \n",
       "3       Madison Beer  Be strong That's my fav song of demi lovato I'...   \n",
       "4      Rebecca Black  My old girlfriend also had a book titled Knot ...   \n",
       "5       Richard Gale  Hes a bitch Richard your a n idiot mate He bul...   \n",
       "6  Shannon Beveridge  My ex broke up with me because she wanted to b...   \n",
       "7     Steven Assanti  Steven is a Sagittarius, we be great is my guy...   \n",
       "\n",
       "   polarity  subjectivity  \n",
       "0 -0.034720      0.568526  \n",
       "1  0.272785      0.552532  \n",
       "2  0.301795      0.613370  \n",
       "3  0.255257      0.674799  \n",
       "4  0.243381      0.578674  \n",
       "5 -0.114670      0.563138  \n",
       "6  0.145690      0.585043  \n",
       "7 -0.032465      0.590166  "
      ]
     },
     "execution_count": 14,
     "metadata": {},
     "output_type": "execute_result"
    }
   ],
   "source": [
    "# Finding polarity and subjectivity of overall comments for each uploaders\n",
    "\n",
    "pol = lambda x: TextBlob(x).sentiment.polarity\n",
    "sub = lambda x: TextBlob(x).sentiment.subjectivity\n",
    "\n",
    "person_comments_sentiment['polarity'] = person_comments_sentiment['Comments'].apply(pol)\n",
    "person_comments_sentiment['subjectivity'] = person_comments_sentiment['Comments'].apply(sub)\n",
    "person_comments_sentiment"
   ]
  },
  {
   "cell_type": "code",
   "execution_count": 15,
   "metadata": {},
   "outputs": [
    {
     "data": {
      "image/png": "[encoded data removed]",
      "text/plain": [
       "<Figure size 720x576 with 1 Axes>"
      ]
     },
     "metadata": {
      "needs_background": "light"
     },
     "output_type": "display_data"
    }
   ],
   "source": [
    "plt.rcParams['figure.figsize'] = [10, 8]\n",
    "\n",
    "for index, uploader in enumerate(person_comments_sentiment.index):\n",
    "    x = person_comments_sentiment.polarity.loc[uploader]\n",
    "    y = person_comments_sentiment.subjectivity.loc[uploader]\n",
    "    plt.scatter(x, y, color='blue')\n",
    "    plt.text(x+.001, y+.001, person_comments_sentiment['Person'][index], fontsize=10)\n",
    "    \n",
    "plt.title('Sentiment Analysis', fontsize=20)\n",
    "plt.xlabel('<-- Negative -------------------------------- Positive -->', fontsize=15)\n",
    "plt.ylabel('<-- Facts --------------------------------Opinions -->', fontsize=15)\n",
    "\n",
    "plt.show()"
   ]
  },
  {
   "cell_type": "markdown",
   "metadata": {},
   "source": [
    "**Insights**\n",
    "\n",
    "From the chart we can infer that:\n",
    "* Madison Beer gets more opinionated positive comments. She is a singer, so it is obvious for her to get opinions at her singing.\n",
    "\n",
    "* Emily Ann gets positive but factual comments. She gets comments mostly about her Arabic heritage. It is good to know that she does not get much xenophobic comments.\n",
    "\n",
    "* Madeline and Eric get mostly positive and fairly opinionated comments. They are independent teen parents blogging their livelihood. Most people find it commendable. \n",
    "\n",
    "* Rebecca Black who used to be heavily bullied for her Friday song now receives factual and positive comments. Though, most of the words in comments of her new video still refer to the 'Friday' song, she is admired for her persistence in singing career.\n",
    "\n",
    "* Steven Assanti and Danielle Cohn gets more negative comments than above individuals. Steven gets more opinionated comments than Dani. The reason could be he is obese and bit rebellious towards comments on his obesity which generates worse comments. Danielle on other hand is a teenager who displays her odd choices of life in social media.\n",
    "\n",
    "\n",
    "* Richard Gale videos gets the worst comments. They are also factual comments. He was a bully who started fight with his class mate. But it is disheartening to see a minor being commented harshly in social media. There should be some moral policing around this.\n",
    "\n",
    "**Final Words**\n",
    "\n",
    "Looking at all previous comparisons, I find Richard Gale and Steven Assanti are worse victims of cyber-bullying. Since Richard was/is a minor, we do not want him to take wrong steps because of such negative impact. I would contact YouTube administrators or cyber police to ban comments on his videos as first measure.\n"
   ]
  },
  {
   "cell_type": "code",
   "execution_count": null,
   "metadata": {},
   "outputs": [],
   "source": []
  }
 ],
 "metadata": {
  "kernelspec": {
   "display_name": "Python 3",
   "language": "python",
   "name": "python3"
  },
  "language_info": {
   "codemirror_mode": {
    "name": "ipython",
    "version": 3
   },
   "file_extension": ".py",
   "mimetype": "text/x-python",
   "name": "python",
   "nbconvert_exporter": "python",
   "pygments_lexer": "ipython3",
   "version": "3.7.3"
  }
 },
 "nbformat": 4,
 "nbformat_minor": 2
}
